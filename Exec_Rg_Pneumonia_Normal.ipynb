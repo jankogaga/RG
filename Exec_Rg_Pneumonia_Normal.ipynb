{
  "nbformat": 4,
  "nbformat_minor": 0,
  "metadata": {
    "colab": {
      "name": "Exec Rg Pneumonia-Normal.ipynb",
      "private_outputs": true,
      "provenance": [],
      "collapsed_sections": [],
      "authorship_tag": "ABX9TyOtH5fI8AouzAQH1MXFZ70T"
    },
    "kernelspec": {
      "name": "python3",
      "display_name": "Python 3"
    }
  },
  "cells": [
    {
      "cell_type": "markdown",
      "metadata": {
        "id": "owqyyh_oaAj2"
      },
      "source": [
        "Preparation"
      ]
    },
    {
      "cell_type": "code",
      "metadata": {
        "id": "lcbSYyuW_a3J",
        "cellView": "form"
      },
      "source": [
        "#@title\n",
        "!gdown --id 1580YcFpDL1SxEoPNtnF8ibGKH76oCWaY"
      ],
      "execution_count": null,
      "outputs": []
    },
    {
      "cell_type": "code",
      "metadata": {
        "id": "Zcey5Y5uMzQe",
        "cellView": "form"
      },
      "source": [
        "#@title\n",
        "!pip install fastai --upgrade"
      ],
      "execution_count": null,
      "outputs": []
    },
    {
      "cell_type": "markdown",
      "metadata": {
        "id": "SnjfsUhCqjJk"
      },
      "source": [
        "Prediction"
      ]
    },
    {
      "cell_type": "code",
      "metadata": {
        "id": "NYVy0T396cNB",
        "cellView": "form"
      },
      "source": [
        "#@title\n",
        "{\n",
        "    \"tags\": [\n",
        "        \"hide-input\",\n",
        "    ]\n",
        "}\n",
        "from ipywidgets import *\n",
        "from fastai.data.all import *\n",
        "from fastai.vision.all import *\n",
        "from fastai.vision.widgets import *\n",
        " \n",
        "btn_upload = widgets.FileUpload()\n",
        "learn_inf = load_learner('Rg-export.pkl')\n",
        "out_pl = widgets.Output()\n",
        "lbl_pred = widgets.Label()\n",
        " \n",
        "def on_click_classify(change):\n",
        "    img = PILImage.create(btn_upload.data[-1])\n",
        "    out_pl.clear_output()\n",
        "    with out_pl: display(img.to_thumb(128,128))\n",
        "    pred,pred_idx,probs = learn_inf.predict(img)\n",
        "    lbl_pred.value = f'Prediction: {pred}; Probability: {probs[pred_idx]:.04f}'\n",
        " \n",
        "btn_run = widgets.Button(description='Classify')\n",
        "btn_run.on_click(on_click_classify)\n",
        " \n",
        "VBox([widgets.Label('Select your Rg image:'), \n",
        "      btn_upload, btn_run, out_pl, lbl_pred])"
      ],
      "execution_count": null,
      "outputs": []
    }
  ]
}